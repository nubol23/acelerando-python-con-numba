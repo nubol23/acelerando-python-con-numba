{
 "cells": [
  {
   "cell_type": "code",
   "execution_count": 10,
   "id": "ea79ab22",
   "metadata": {},
   "outputs": [],
   "source": [
    "import pandas as pd\n",
    "import numpy as np\n",
    "from numba import njit, prange\n",
    "\n",
    "from tqdm.notebook import tqdm"
   ]
  },
  {
   "cell_type": "code",
   "execution_count": 11,
   "id": "b09e11e4",
   "metadata": {},
   "outputs": [],
   "source": [
    "train_csv = pd.read_csv(\"train.csv\").drop([\"Unnamed: 0\"], axis=1)\n",
    "val_csv = pd.read_csv(\"val.csv\").drop([\"Unnamed: 0\"], axis=1)"
   ]
  },
  {
   "cell_type": "code",
   "execution_count": 12,
   "id": "9a9f2eb0",
   "metadata": {},
   "outputs": [],
   "source": [
    "n_users = 3974;\n",
    "n_items = 3564;\n",
    "\n",
    "uir_train = train_csv.values\n",
    "uir_val = val_csv.values"
   ]
  },
  {
   "cell_type": "markdown",
   "id": "4fcd8a28",
   "metadata": {},
   "source": [
    "## Without jit"
   ]
  },
  {
   "cell_type": "code",
   "execution_count": 13,
   "id": "69bd85c8",
   "metadata": {},
   "outputs": [],
   "source": [
    "def predict_no_jit(u, i, params):\n",
    "    μ, bu, bi, P, Q = params\n",
    "    k = P.shape[1]\n",
    "\n",
    "    pred = μ + bu[u] + bi[i] + np.dot(Q[i], P[u])\n",
    "    \n",
    "    return pred\n",
    "\n",
    "def predict_batch_no_jit(uir_mat, params):\n",
    "    predictions = np.zeros(len(uir_mat))\n",
    "    for it in prange(uir_mat.shape[0]):\n",
    "        u, i, _ = uir_mat[it]\n",
    "        predictions[it] = predict_no_jit(u, i, params)\n",
    "        \n",
    "    return np.clip(predictions, 1., 5.)\n",
    "\n",
    "def fit_funk_svd_no_jit(train_data, val_data, n_users, n_items, k, α1, α2, α3, α4, λ1, λ2, n_iters):\n",
    "    val_size = len(val_data)\n",
    "    val_exp = val_data[:, -1]\n",
    "    \n",
    "    bu = np.zeros(n_users, np.double)\n",
    "    bi = np.zeros(n_items, np.double)\n",
    "    \n",
    "    P = np.random.normal(0, .1, (n_users, k))\n",
    "    Q = np.random.normal(0, .1, (n_items, k))\n",
    "    \n",
    "    μ = np.mean(train_data[:, 2])\n",
    "    \n",
    "    min_val_loss = np.inf\n",
    "    for it in tqdm(range(n_iters)):\n",
    "        loss = 0\n",
    "        for u, i, r in train_data:\n",
    "            pred = μ + bu[u] + bi[i] + np.dot(P[u], Q[i])\n",
    "            \n",
    "            error = r - pred\n",
    "            \n",
    "            # Updating\n",
    "            bu[u] += α1 * (error - λ1*bu[u])\n",
    "            bi[i] += α2 * (error - λ1*bi[i])\n",
    "            P[u], Q[i] = P[u] + α3*(error*Q[i] - λ2*P[u]), Q[i] + α4*(error*P[u] - λ2*Q[i])\n",
    "            \n",
    "            loss += error**2\n",
    "        loss = np.sqrt(loss/len(train_data))\n",
    "            \n",
    "        val_preds = predict_batch_no_jit(val_data, (μ, bu, bi, P, Q))\n",
    "        min_val_loss = min(\n",
    "            min_val_loss,\n",
    "            np.sqrt(1/val_size * np.sum((val_preds - val_exp)**2)),\n",
    "        )\n",
    "    \n",
    "    print(\"loss:\", loss, \"val_loss:\", min_val_loss)\n",
    "    \n",
    "    return μ, bu, bi, P, Q"
   ]
  },
  {
   "cell_type": "code",
   "execution_count": null,
   "id": "5adb6112",
   "metadata": {},
   "outputs": [
    {
     "data": {
      "application/vnd.jupyter.widget-view+json": {
       "model_id": "a0c6c8e536ee4d5fa750d1c0e208a34e",
       "version_major": 2,
       "version_minor": 0
      },
      "text/plain": [
       "  0%|          | 0/75 [00:00<?, ?it/s]"
      ]
     },
     "metadata": {},
     "output_type": "display_data"
    }
   ],
   "source": [
    "fitted_final_params_no_jit = fit_funk_svd_no_jit(\n",
    "    uir_train,\n",
    "    uir_val,\n",
    "    n_users,\n",
    "    n_items, \n",
    "    k=150, \n",
    "    α1=0.005, \n",
    "    α2=0.005, \n",
    "    α3=0.01, \n",
    "    α4=0.01,\n",
    "    λ1=0.05,\n",
    "    λ2=0.1, \n",
    "    n_iters=75,\n",
    ")\n",
    "\n",
    "# 07:52"
   ]
  },
  {
   "cell_type": "markdown",
   "id": "79552d5a",
   "metadata": {},
   "source": [
    "## With jit"
   ]
  },
  {
   "cell_type": "code",
   "execution_count": 8,
   "id": "d64fb8a3",
   "metadata": {},
   "outputs": [],
   "source": [
    "@njit\n",
    "def predict(u, i, params):\n",
    "    μ, bu, bi, P, Q = params\n",
    "    k = P.shape[1]\n",
    "\n",
    "    pred = μ + bu[u] + bi[i] + np.dot(Q[i], P[u])\n",
    "    \n",
    "    return pred\n",
    "\n",
    "@njit\n",
    "def predict_batch(uir_mat, params):\n",
    "    predictions = np.zeros(len(uir_mat))\n",
    "    for it in prange(uir_mat.shape[0]):\n",
    "        u, i, _ = uir_mat[it]\n",
    "        predictions[it] = predict(u, i, params)\n",
    "        \n",
    "    return np.clip(predictions, 1., 5.)\n",
    "\n",
    "@njit\n",
    "def fit_funk_svd(\n",
    "    train_data, \n",
    "    val_data, \n",
    "    n_users, \n",
    "    n_items, \n",
    "    k, \n",
    "    α1, \n",
    "    α2, \n",
    "    α3, \n",
    "    α4, \n",
    "    λ1, \n",
    "    λ2, \n",
    "    n_iters,\n",
    "    progress_proxy,\n",
    "):\n",
    "    val_size = len(val_data)\n",
    "    val_exp = val_data[:, -1]\n",
    "    \n",
    "    bu = np.zeros(n_users, np.double)\n",
    "    bi = np.zeros(n_items, np.double)\n",
    "    \n",
    "    P = np.random.normal(0, .1, (n_users, k))\n",
    "    Q = np.random.normal(0, .1, (n_items, k))\n",
    "    \n",
    "    μ = np.mean(train_data[:, 2])\n",
    "    \n",
    "    min_val_loss = np.inf\n",
    "    for it in range(n_iters):\n",
    "        loss = 0\n",
    "        for u, i, r in train_data:\n",
    "            pred = μ + bu[u] + bi[i] + np.dot(P[u], Q[i])\n",
    "            \n",
    "            error = r - pred\n",
    "            \n",
    "            # Updating\n",
    "            bu[u] += α1 * (error - λ1*bu[u])\n",
    "            bi[i] += α2 * (error - λ1*bi[i])\n",
    "            P[u], Q[i] = P[u] + α3*(error*Q[i] - λ2*P[u]), Q[i] + α4*(error*P[u] - λ2*Q[i])\n",
    "            \n",
    "            loss += error**2\n",
    "        loss = np.sqrt(loss/len(train_data))\n",
    "            \n",
    "        val_preds = predict_batch(val_data, (μ, bu, bi, P, Q))\n",
    "        min_val_loss = min(\n",
    "            min_val_loss,\n",
    "            np.sqrt(1/val_size * np.sum((val_preds - val_exp)**2)),\n",
    "        )\n",
    "        \n",
    "        progress_proxy.update(1)\n",
    "    \n",
    "    print(\"loss:\", loss, \"val_loss:\", min_val_loss)\n",
    "    \n",
    "    return μ, bu, bi, P, Q"
   ]
  },
  {
   "cell_type": "code",
   "execution_count": 6,
   "id": "4a8e143c",
   "metadata": {},
   "outputs": [],
   "source": [
    "from numba_progress import ProgressBar"
   ]
  },
  {
   "cell_type": "code",
   "execution_count": 9,
   "id": "2f03e6f5",
   "metadata": {},
   "outputs": [
    {
     "data": {
      "application/vnd.jupyter.widget-view+json": {
       "model_id": "353131944dd841db83a9d79b340a696e",
       "version_major": 2,
       "version_minor": 0
      },
      "text/plain": [
       "  0%|                                                    | 0/75 [00:00<?, ?it/s]"
      ]
     },
     "metadata": {},
     "output_type": "display_data"
    },
    {
     "name": "stdout",
     "output_type": "stream",
     "text": [
      "loss: 0.7480935195946997 val_loss: 0.8634181761551536\n"
     ]
    }
   ],
   "source": [
    "with ProgressBar(total=75) as progress:\n",
    "    fitted_final_params = fit_funk_svd(\n",
    "        uir_train,\n",
    "        uir_val,\n",
    "        n_users,\n",
    "        n_items, \n",
    "        k=150, \n",
    "        α1=0.005, \n",
    "        α2=0.005, \n",
    "        α3=0.01, \n",
    "        α4=0.01,\n",
    "        λ1=0.05,\n",
    "        λ2=0.1, \n",
    "        n_iters=75,\n",
    "        progress_proxy=progress,\n",
    "    )\n",
    "    \n",
    "# 00:13"
   ]
  }
 ],
 "metadata": {
  "kernelspec": {
   "display_name": "Python 3 (ipykernel)",
   "language": "python",
   "name": "python3"
  },
  "language_info": {
   "codemirror_mode": {
    "name": "ipython",
    "version": 3
   },
   "file_extension": ".py",
   "mimetype": "text/x-python",
   "name": "python",
   "nbconvert_exporter": "python",
   "pygments_lexer": "ipython3",
   "version": "3.10.4"
  }
 },
 "nbformat": 4,
 "nbformat_minor": 5
}
