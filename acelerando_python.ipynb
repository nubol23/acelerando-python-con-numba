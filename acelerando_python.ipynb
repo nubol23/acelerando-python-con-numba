{
 "cells": [
  {
   "cell_type": "code",
   "execution_count": 1,
   "id": "8c96bf41",
   "metadata": {
    "slideshow": {
     "slide_type": "skip"
    }
   },
   "outputs": [],
   "source": [
    "from tqdm.notebook import tqdm\n",
    "from random import randint\n",
    "import numpy as np\n",
    "from numba import jit, prange"
   ]
  },
  {
   "cell_type": "markdown",
   "id": "cbd0fe82",
   "metadata": {
    "slideshow": {
     "slide_type": "slide"
    }
   },
   "source": [
    "# ¿Cómo acelerar tu código en Python?"
   ]
  },
  {
   "cell_type": "markdown",
   "id": "d8e5b444",
   "metadata": {
    "slideshow": {
     "slide_type": "slide"
    }
   },
   "source": [
    "## Python es lento"
   ]
  },
  {
   "cell_type": "markdown",
   "id": "d6f0f0e9",
   "metadata": {
    "slideshow": {
     "slide_type": "subslide"
    }
   },
   "source": [
    "* Interpretado"
   ]
  },
  {
   "cell_type": "code",
   "execution_count": 2,
   "id": "309225e6",
   "metadata": {
    "slideshow": {
     "slide_type": "fragment"
    }
   },
   "outputs": [
    {
     "data": {
      "application/vnd.jupyter.widget-view+json": {
       "model_id": "2dade78d0b0b46e3bfe1503316d8b5f8",
       "version_major": 2,
       "version_minor": 0
      },
      "text/plain": [
       "  0%|          | 0/200 [00:00<?, ?it/s]"
      ]
     },
     "metadata": {},
     "output_type": "display_data"
    },
    {
     "ename": "TypeError",
     "evalue": "unsupported operand type(s) for +=: 'int' and 'str'",
     "output_type": "error",
     "traceback": [
      "\u001b[0;31m---------------------------------------------------------------------------\u001b[0m",
      "\u001b[0;31mTypeError\u001b[0m                                 Traceback (most recent call last)",
      "Input \u001b[0;32mIn [2]\u001b[0m, in \u001b[0;36m<cell line: 3>\u001b[0;34m()\u001b[0m\n\u001b[1;32m      3\u001b[0m \u001b[38;5;28;01mfor\u001b[39;00m i \u001b[38;5;129;01min\u001b[39;00m tqdm(\u001b[38;5;28mrange\u001b[39m(\u001b[38;5;241m200\u001b[39m)):\n\u001b[1;32m      4\u001b[0m     \u001b[38;5;28;01mif\u001b[39;00m i \u001b[38;5;241m==\u001b[39m \u001b[38;5;241m180\u001b[39m:\n\u001b[0;32m----> 5\u001b[0m         res \u001b[38;5;241m+\u001b[39m\u001b[38;5;241m=\u001b[39m \u001b[38;5;124m\"\u001b[39m\u001b[38;5;124mhola\u001b[39m\u001b[38;5;124m\"\u001b[39m\n\u001b[1;32m      6\u001b[0m     \u001b[38;5;28;01melse\u001b[39;00m:\n\u001b[1;32m      7\u001b[0m         res \u001b[38;5;241m+\u001b[39m\u001b[38;5;241m=\u001b[39m \u001b[38;5;241m1\u001b[39m\n",
      "\u001b[0;31mTypeError\u001b[0m: unsupported operand type(s) for +=: 'int' and 'str'"
     ]
    }
   ],
   "source": [
    "res = 0\n",
    "\n",
    "for i in tqdm(range(200)):\n",
    "    if i == 180:\n",
    "        res += \"hola\"\n",
    "    else:\n",
    "        res += 1"
   ]
  },
  {
   "cell_type": "markdown",
   "id": "1594362c",
   "metadata": {
    "slideshow": {
     "slide_type": "subslide"
    }
   },
   "source": [
    "* Tipado dinámico"
   ]
  },
  {
   "cell_type": "code",
   "execution_count": 3,
   "id": "cff53260",
   "metadata": {
    "slideshow": {
     "slide_type": "fragment"
    }
   },
   "outputs": [
    {
     "name": "stdout",
     "output_type": "stream",
     "text": [
      "<class 'int'>\n",
      "101\n"
     ]
    }
   ],
   "source": [
    "n = 100\n",
    "print(type(n))\n",
    "print(n + 1)"
   ]
  },
  {
   "cell_type": "code",
   "execution_count": 4,
   "id": "e4a2c37e",
   "metadata": {
    "slideshow": {
     "slide_type": "fragment"
    }
   },
   "outputs": [
    {
     "name": "stdout",
     "output_type": "stream",
     "text": [
      "100\n",
      "<class 'list'>\n",
      "[0, 1, 2, 3, 4, 5, 6, 7, 8, 9]\n"
     ]
    }
   ],
   "source": [
    "print(n)\n",
    "\n",
    "n = list(range(1000))\n",
    "print(type(n))\n",
    "print(n[:10])"
   ]
  },
  {
   "cell_type": "markdown",
   "id": "c1fa0f65",
   "metadata": {
    "slideshow": {
     "slide_type": "subslide"
    }
   },
   "source": [
    "* Bound checking"
   ]
  },
  {
   "cell_type": "code",
   "execution_count": 5,
   "id": "b9618675",
   "metadata": {
    "slideshow": {
     "slide_type": "fragment"
    }
   },
   "outputs": [
    {
     "name": "stdout",
     "output_type": "stream",
     "text": [
      "[10, 3, 1, 10, 4, 9, 10, 3, 10, 7, 8, 8, 3, 5, 8, 5, 6, 6, 6, 10]\n"
     ]
    }
   ],
   "source": [
    "l = [randint(1, 10) for _ in range(20)]\n",
    "\n",
    "print(l)"
   ]
  },
  {
   "cell_type": "code",
   "execution_count": 6,
   "id": "b4b300e7",
   "metadata": {
    "slideshow": {
     "slide_type": "fragment"
    }
   },
   "outputs": [
    {
     "name": "stdout",
     "output_type": "stream",
     "text": [
      "10\n"
     ]
    }
   ],
   "source": [
    "print(l[19])"
   ]
  },
  {
   "cell_type": "code",
   "execution_count": 7,
   "id": "39a86e9b",
   "metadata": {
    "slideshow": {
     "slide_type": "fragment"
    }
   },
   "outputs": [
    {
     "ename": "IndexError",
     "evalue": "list index out of range",
     "output_type": "error",
     "traceback": [
      "\u001b[0;31m---------------------------------------------------------------------------\u001b[0m",
      "\u001b[0;31mIndexError\u001b[0m                                Traceback (most recent call last)",
      "Input \u001b[0;32mIn [7]\u001b[0m, in \u001b[0;36m<cell line: 1>\u001b[0;34m()\u001b[0m\n\u001b[0;32m----> 1\u001b[0m \u001b[38;5;28mprint\u001b[39m(\u001b[43ml\u001b[49m\u001b[43m[\u001b[49m\u001b[38;5;241;43m20\u001b[39;49m\u001b[43m]\u001b[49m)\n",
      "\u001b[0;31mIndexError\u001b[0m: list index out of range"
     ]
    }
   ],
   "source": [
    "print(l[20])"
   ]
  },
  {
   "cell_type": "markdown",
   "id": "d9398578",
   "metadata": {
    "slideshow": {
     "slide_type": "slide"
    }
   },
   "source": [
    "## Numba"
   ]
  },
  {
   "cell_type": "markdown",
   "id": "c6fb3bc6",
   "metadata": {
    "slideshow": {
     "slide_type": "subslide"
    }
   },
   "source": [
    "* Permite compilar funciones usando [LLVM](https://llvm.org/)\n",
    "\n",
    "![llvm](https://linuxhint.com/wp-content/uploads/2017/12/LLVM-Logo-Derivative-1.png)"
   ]
  },
  {
   "cell_type": "markdown",
   "id": "daaa5816",
   "metadata": {
    "slideshow": {
     "slide_type": "subslide"
    }
   },
   "source": [
    "* Se usa como un decorador"
   ]
  },
  {
   "cell_type": "markdown",
   "id": "999ee1ad",
   "metadata": {
    "slideshow": {
     "slide_type": "fragment"
    }
   },
   "source": [
    "```python\n",
    "@jit\n",
    "def func(*args):\n",
    "    # do something\n",
    "```"
   ]
  },
  {
   "cell_type": "markdown",
   "id": "a3a651ed",
   "metadata": {
    "slideshow": {
     "slide_type": "subslide"
    }
   },
   "source": [
    "* Soporta un [subconjunto](https://numba.pydata.org/numba-doc/dev/reference/pysupported.html) de Python"
   ]
  },
  {
   "cell_type": "markdown",
   "id": "c903ee9c",
   "metadata": {
    "slideshow": {
     "slide_type": "fragment"
    }
   },
   "source": [
    "* No realiza bound checking"
   ]
  },
  {
   "cell_type": "markdown",
   "id": "e6b32442",
   "metadata": {
    "slideshow": {
     "slide_type": "fragment"
    }
   },
   "source": [
    "* Si una función lanza una excepción produce memory leaks"
   ]
  },
  {
   "cell_type": "markdown",
   "id": "47e319af",
   "metadata": {
    "slideshow": {
     "slide_type": "slide"
    }
   },
   "source": [
    "## Acelerando el código\n",
    "\n",
    "Caso de estudio RMSE"
   ]
  },
  {
   "cell_type": "code",
   "execution_count": 8,
   "id": "e2badbfd",
   "metadata": {
    "slideshow": {
     "slide_type": "fragment"
    }
   },
   "outputs": [],
   "source": [
    "v1 = np.random.randn(1000000)\n",
    "v2 = np.random.randn(1000000)"
   ]
  },
  {
   "cell_type": "markdown",
   "id": "21cd0f2b",
   "metadata": {
    "slideshow": {
     "slide_type": "subslide"
    }
   },
   "source": [
    "### Python puro"
   ]
  },
  {
   "cell_type": "code",
   "execution_count": 15,
   "id": "6e75e8cb",
   "metadata": {
    "slideshow": {
     "slide_type": "fragment"
    }
   },
   "outputs": [],
   "source": [
    "def rmse(arr_1, arr_2):\n",
    "    size = len(arr_1)\n",
    "    \n",
    "    res = 0\n",
    "    for e1, e2 in zip(arr_1, arr_2):\n",
    "        res += (e1 - e2)**2\n",
    "    return np.sqrt(res/size)"
   ]
  },
  {
   "cell_type": "code",
   "execution_count": 16,
   "id": "9885066c",
   "metadata": {
    "slideshow": {
     "slide_type": "fragment"
    }
   },
   "outputs": [
    {
     "name": "stdout",
     "output_type": "stream",
     "text": [
      "1.4146686542251374\n"
     ]
    }
   ],
   "source": [
    "print(rmse(v1, v2))"
   ]
  },
  {
   "cell_type": "code",
   "execution_count": null,
   "id": "13c61ec7",
   "metadata": {
    "slideshow": {
     "slide_type": "fragment"
    }
   },
   "outputs": [],
   "source": [
    "%%timeit\n",
    "rmse(v1, v2)"
   ]
  },
  {
   "cell_type": "markdown",
   "id": "838449ff",
   "metadata": {
    "slideshow": {
     "slide_type": "subslide"
    }
   },
   "source": [
    "### Numpy"
   ]
  },
  {
   "cell_type": "code",
   "execution_count": 17,
   "id": "62ab1e7a",
   "metadata": {
    "slideshow": {
     "slide_type": "fragment"
    }
   },
   "outputs": [],
   "source": [
    "def rmse_np(arr_1, arr_2):\n",
    "    size = len(arr_1)\n",
    "    \n",
    "    return np.sqrt( 1/size * np.sum((arr_1 - arr_2)**2) )"
   ]
  },
  {
   "cell_type": "code",
   "execution_count": 18,
   "id": "6b7aaf43",
   "metadata": {
    "slideshow": {
     "slide_type": "fragment"
    }
   },
   "outputs": [
    {
     "name": "stdout",
     "output_type": "stream",
     "text": [
      "1.41466865422516\n"
     ]
    }
   ],
   "source": [
    "print(rmse_np(v1, v2))"
   ]
  },
  {
   "cell_type": "code",
   "execution_count": null,
   "id": "a9b2692b",
   "metadata": {
    "slideshow": {
     "slide_type": "fragment"
    }
   },
   "outputs": [],
   "source": [
    "%%timeit\n",
    "rmse_np(v1, v2)"
   ]
  },
  {
   "cell_type": "markdown",
   "id": "a1ac3e28",
   "metadata": {
    "slideshow": {
     "slide_type": "subslide"
    }
   },
   "source": [
    "### Numba"
   ]
  },
  {
   "cell_type": "code",
   "execution_count": 19,
   "id": "62b80c94",
   "metadata": {
    "slideshow": {
     "slide_type": "fragment"
    }
   },
   "outputs": [],
   "source": [
    "@jit(nopython=True)\n",
    "def rmse_numba(arr_1, arr_2):\n",
    "    size = len(arr_1)\n",
    "    \n",
    "    res = 0\n",
    "    for e1, e2 in zip(arr_1, arr_2):\n",
    "        res += (e1 - e2)**2\n",
    "    return np.sqrt(res/size)"
   ]
  },
  {
   "cell_type": "code",
   "execution_count": 20,
   "id": "5cd1d876",
   "metadata": {
    "slideshow": {
     "slide_type": "fragment"
    }
   },
   "outputs": [
    {
     "name": "stdout",
     "output_type": "stream",
     "text": [
      "1.4146686542251374\n"
     ]
    }
   ],
   "source": [
    "print(rmse_numba(v1, v2))"
   ]
  },
  {
   "cell_type": "code",
   "execution_count": null,
   "id": "bc305676",
   "metadata": {
    "slideshow": {
     "slide_type": "fragment"
    }
   },
   "outputs": [],
   "source": [
    "%%timeit\n",
    "rmse_numba(v1, v2)"
   ]
  },
  {
   "cell_type": "markdown",
   "id": "9bbf1432",
   "metadata": {
    "slideshow": {
     "slide_type": "slide"
    }
   },
   "source": [
    "## Otro ejemplo\n",
    "\n",
    "Calcular una matriz de distancias elemento a elemento"
   ]
  },
  {
   "cell_type": "code",
   "execution_count": 23,
   "id": "f161c3da",
   "metadata": {
    "slideshow": {
     "slide_type": "fragment"
    }
   },
   "outputs": [],
   "source": [
    "samples = np.random.randn(1000, 5).astype(np.float32)"
   ]
  },
  {
   "cell_type": "markdown",
   "id": "93c8776c",
   "metadata": {
    "slideshow": {
     "slide_type": "subslide"
    }
   },
   "source": [
    "### Python + numpy"
   ]
  },
  {
   "cell_type": "code",
   "execution_count": 24,
   "id": "7208f39d",
   "metadata": {
    "slideshow": {
     "slide_type": "fragment"
    }
   },
   "outputs": [],
   "source": [
    "def sims(mat):\n",
    "    size = len(mat)\n",
    "    res = np.empty((size, size), dtype=np.float32)\n",
    "    \n",
    "    for i in tqdm(range(size)):\n",
    "        for j in range(size):\n",
    "            vi = mat[i]\n",
    "            vj = mat[j]\n",
    "            res[i, j] = np.dot(vi, vj)/(np.linalg.norm(vi)*np.linalg.norm(vj))\n",
    "    \n",
    "    return res"
   ]
  },
  {
   "cell_type": "code",
   "execution_count": 25,
   "id": "2a1aca9f",
   "metadata": {
    "slideshow": {
     "slide_type": "fragment"
    }
   },
   "outputs": [
    {
     "data": {
      "application/vnd.jupyter.widget-view+json": {
       "model_id": "8b2890760a764a73a817f2565997fae3",
       "version_major": 2,
       "version_minor": 0
      },
      "text/plain": [
       "  0%|          | 0/1000 [00:00<?, ?it/s]"
      ]
     },
     "metadata": {},
     "output_type": "display_data"
    },
    {
     "name": "stdout",
     "output_type": "stream",
     "text": [
      "[[ 1.         -0.21703635 -0.49474928 ...  0.8253892   0.32849225\n",
      "   0.6255203 ]\n",
      " [-0.21703635  1.         -0.2131697  ...  0.23344891 -0.03217232\n",
      "   0.315679  ]\n",
      " [-0.49474928 -0.2131697   1.         ... -0.27979162  0.4768727\n",
      "   0.02333749]\n",
      " ...\n",
      " [ 0.8253892   0.23344891 -0.27979162 ...  1.0000001   0.639371\n",
      "   0.91750354]\n",
      " [ 0.32849225 -0.03217232  0.4768727  ...  0.639371    0.99999994\n",
      "   0.7428645 ]\n",
      " [ 0.6255203   0.315679    0.02333749 ...  0.91750354  0.7428645\n",
      "   1.        ]]\n"
     ]
    }
   ],
   "source": [
    "# Usaremos tqdm porque timeit demora mucho\n",
    "print(sims(samples))"
   ]
  },
  {
   "cell_type": "markdown",
   "id": "70a8fa12",
   "metadata": {
    "slideshow": {
     "slide_type": "subslide"
    }
   },
   "source": [
    "### Numba"
   ]
  },
  {
   "cell_type": "code",
   "execution_count": 26,
   "id": "c171278e",
   "metadata": {
    "slideshow": {
     "slide_type": "fragment"
    }
   },
   "outputs": [],
   "source": [
    "@jit(nopython=True)\n",
    "def sims_numba(mat):\n",
    "    size = len(mat)\n",
    "    res = np.empty((size, size), dtype=np.float32)\n",
    "    \n",
    "    for i in range(size):\n",
    "        for j in range(size):\n",
    "            vi = mat[i]\n",
    "            vj = mat[j]\n",
    "            res[i, j] = np.dot(vi, vj)/(np.linalg.norm(vi)*np.linalg.norm(vj))\n",
    "    \n",
    "    return res"
   ]
  },
  {
   "cell_type": "code",
   "execution_count": 27,
   "id": "a0244c58",
   "metadata": {
    "scrolled": true,
    "slideshow": {
     "slide_type": "fragment"
    }
   },
   "outputs": [],
   "source": [
    "out_numba = sims_numba(samples)"
   ]
  },
  {
   "cell_type": "code",
   "execution_count": null,
   "id": "531c44de",
   "metadata": {
    "slideshow": {
     "slide_type": "fragment"
    }
   },
   "outputs": [],
   "source": [
    "%%timeit\n",
    "sims_numba(samples)"
   ]
  },
  {
   "cell_type": "markdown",
   "id": "98e35122",
   "metadata": {
    "slideshow": {
     "slide_type": "subslide"
    }
   },
   "source": [
    "### Numba parallel"
   ]
  },
  {
   "cell_type": "code",
   "execution_count": 29,
   "id": "b58da975",
   "metadata": {
    "slideshow": {
     "slide_type": "fragment"
    }
   },
   "outputs": [],
   "source": [
    "@jit(nopython=True, parallel=True)\n",
    "def sims_numba_parallel(mat):\n",
    "    size = len(mat)\n",
    "    res = np.empty((size, size), dtype=np.float32)\n",
    "    \n",
    "    for i in range(size):\n",
    "        for j in prange(size):\n",
    "            vi = mat[i]\n",
    "            vj = mat[j]\n",
    "            vij = np.dot(vi, vj)\n",
    "            vii = np.dot(vi, vi)\n",
    "            vjj = np.dot(vj, vj)\n",
    "            res[i, j] = vij/(np.sqrt(vii)*np.sqrt(vjj))\n",
    "    \n",
    "    return res"
   ]
  },
  {
   "cell_type": "code",
   "execution_count": 30,
   "id": "5da908f7",
   "metadata": {
    "slideshow": {
     "slide_type": "fragment"
    }
   },
   "outputs": [],
   "source": [
    "out_parallel = sims_numba_parallel(samples)"
   ]
  },
  {
   "cell_type": "code",
   "execution_count": null,
   "id": "abf1d5d1",
   "metadata": {
    "slideshow": {
     "slide_type": "fragment"
    }
   },
   "outputs": [],
   "source": [
    "%%timeit\n",
    "sims_numba_parallel(samples)"
   ]
  },
  {
   "cell_type": "code",
   "execution_count": 31,
   "id": "5ae7d2ce",
   "metadata": {
    "slideshow": {
     "slide_type": "subslide"
    }
   },
   "outputs": [
    {
     "data": {
      "text/plain": [
       "True"
      ]
     },
     "execution_count": 31,
     "metadata": {},
     "output_type": "execute_result"
    }
   ],
   "source": [
    "np.allclose(out_numba, out_parallel)"
   ]
  },
  {
   "cell_type": "markdown",
   "id": "9ae4ac14",
   "metadata": {
    "slideshow": {
     "slide_type": "slide"
    }
   },
   "source": [
    "## Veamos un ejemplo más complejo"
   ]
  }
 ],
 "metadata": {
  "celltoolbar": "Slideshow",
  "kernelspec": {
   "display_name": "Python 3 (ipykernel)",
   "language": "python",
   "name": "python3"
  },
  "language_info": {
   "codemirror_mode": {
    "name": "ipython",
    "version": 3
   },
   "file_extension": ".py",
   "mimetype": "text/x-python",
   "name": "python",
   "nbconvert_exporter": "python",
   "pygments_lexer": "ipython3",
   "version": "3.10.4"
  }
 },
 "nbformat": 4,
 "nbformat_minor": 5
}
